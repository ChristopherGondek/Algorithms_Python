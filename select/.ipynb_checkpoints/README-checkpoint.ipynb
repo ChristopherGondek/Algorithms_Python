{
 "cells": [
  {
   "cell_type": "markdown",
   "metadata": {
    "collapsed": true
   },
   "source": [
    "# SELECT"
   ]
  },
  {
   "cell_type": "markdown",
   "metadata": {},
   "source": [
    "## Problem Desciption:\n",
    "### Select the k-th smallest element from an unordered list"
   ]
  },
  {
   "cell_type": "markdown",
   "metadata": {},
   "source": [
    "## Example"
   ]
  },
  {
   "cell_type": "code",
   "execution_count": 1,
   "metadata": {
    "collapsed": false
   },
   "outputs": [
    {
     "data": {
      "text/plain": [
       "50"
      ]
     },
     "execution_count": 1,
     "metadata": {},
     "output_type": "execute_result"
    }
   ],
   "source": [
    "import random\n",
    "import randomized_select\n",
    "\n",
    "# The length of the test list\n",
    "n = 10 ** 5\n",
    "\n",
    "# The k-th smallest element\n",
    "k = n // 2\n",
    "\n",
    "# The test list of length n\n",
    "data = [random.randint(0, 100) for _ in range(0, n)]\n",
    "\n",
    "# Find the k-th smallest element\n",
    "randomized_select.randomized_select_loop(data, k)"
   ]
  }
 ],
 "metadata": {
  "kernelspec": {
   "display_name": "Python 2",
   "language": "python",
   "name": "python2"
  },
  "language_info": {
   "codemirror_mode": {
    "name": "ipython",
    "version": 2
   },
   "file_extension": ".py",
   "mimetype": "text/x-python",
   "name": "python",
   "nbconvert_exporter": "python",
   "pygments_lexer": "ipython2",
   "version": "2.7.6"
  }
 },
 "nbformat": 4,
 "nbformat_minor": 0
}
